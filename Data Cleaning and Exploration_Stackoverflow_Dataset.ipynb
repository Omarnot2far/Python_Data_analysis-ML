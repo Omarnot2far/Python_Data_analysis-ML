{
  "nbformat": 4,
  "nbformat_minor": 0,
  "metadata": {
    "colab": {
      "provenance": [],
      "mount_file_id": "1UK8y3XtAN6ZyPaG6Anf_OdWAGKCdtonO",
      "authorship_tag": "ABX9TyOEGLUvw/e2OsTYjK0EoHQH",
      "include_colab_link": true
    },
    "kernelspec": {
      "name": "python3",
      "display_name": "Python 3"
    },
    "language_info": {
      "name": "python"
    }
  },
  "cells": [
    {
      "cell_type": "markdown",
      "metadata": {
        "id": "view-in-github",
        "colab_type": "text"
      },
      "source": [
        "<a href=\"https://colab.research.google.com/github/Omarnot2far/Python_Data_analysis-ML/blob/main/Data%20Cleaning%20and%20Exploration_Stackoverflow_Dataset.ipynb\" target=\"_parent\"><img src=\"https://colab.research.google.com/assets/colab-badge.svg\" alt=\"Open In Colab\"/></a>"
      ]
    },
    {
      "cell_type": "code",
      "source": [
        "from google.colab import drive\n",
        "drive.mount('/content/drive')"
      ],
      "metadata": {
        "colab": {
          "base_uri": "https://localhost:8080/"
        },
        "id": "zyQuPr3451LR",
        "outputId": "349cc073-136d-4824-a5bb-00dfb1a5d548"
      },
      "execution_count": null,
      "outputs": [
        {
          "output_type": "stream",
          "name": "stdout",
          "text": [
            "Drive already mounted at /content/drive; to attempt to forcibly remount, call drive.mount(\"/content/drive\", force_remount=True).\n"
          ]
        }
      ]
    },
    {
      "cell_type": "code",
      "source": [
        "import pandas as pd\n",
        "import numpy as np\n",
        "import matplotlib.pyplot as plt\n",
        "import seaborn as sns\n",
        "%matplotlib inline "
      ],
      "metadata": {
        "id": "fgHyEsQR51LY"
      },
      "execution_count": null,
      "outputs": []
    },
    {
      "cell_type": "markdown",
      "source": [
        "**Introduction**\n",
        "\n",
        "The 2022 Stack Overflow Developer Survey, the longest running survey of software developers (and anyone else who codes!) on Earth.\n",
        "\n",
        "There are seven sections in this survey:\n",
        "1. Basic Information\n",
        "2. Education, Work, and Career\n",
        "3. Technology and Tech Culture\n",
        "4. Stack Overflow Usage + Community\n",
        "5. Demographic Information\n",
        "6. Professional Developer Series (Optional)\n",
        "7. Final Questions\n"
      ],
      "metadata": {
        "id": "Pfc32sX77FDs"
      }
    },
    {
      "cell_type": "markdown",
      "source": [
        "In this notebook, we will ananlyse the Stack Overflow Developer Survey 2022 through survey result schema."
      ],
      "metadata": {
        "id": "lcUbrRu_7qqt"
      }
    },
    {
      "cell_type": "code",
      "source": [
        "# importing dataset from google drive\n",
        "survey_result = pd.read_csv('/content/drive/MyDrive/Data set/StackOverflow/survey_results_public.csv')\n"
      ],
      "metadata": {
        "id": "yoOK5CR98VXB"
      },
      "execution_count": null,
      "outputs": []
    },
    {
      "cell_type": "code",
      "source": [
        "survey_result.head()"
      ],
      "metadata": {
        "colab": {
          "base_uri": "https://localhost:8080/",
          "height": 629
        },
        "id": "jjHs2pDw8_B_",
        "outputId": "753a5352-79d4-419c-d10d-41134f88a498"
      },
      "execution_count": null,
      "outputs": [
        {
          "output_type": "execute_result",
          "data": {
            "text/plain": [
              "   ResponseId                                         MainBranch  \\\n",
              "0           1                                      None of these   \n",
              "1           2                     I am a developer by profession   \n",
              "2           3  I am not primarily a developer, but I write co...   \n",
              "3           4                     I am a developer by profession   \n",
              "4           5                     I am a developer by profession   \n",
              "\n",
              "            Employment                            RemoteWork  \\\n",
              "0                  NaN                                   NaN   \n",
              "1  Employed, full-time                          Fully remote   \n",
              "2  Employed, full-time  Hybrid (some remote, some in-person)   \n",
              "3  Employed, full-time                          Fully remote   \n",
              "4  Employed, full-time  Hybrid (some remote, some in-person)   \n",
              "\n",
              "                           CodingActivities  \\\n",
              "0                                       NaN   \n",
              "1  Hobby;Contribute to open-source projects   \n",
              "2                                     Hobby   \n",
              "3              I don’t code outside of work   \n",
              "4                                     Hobby   \n",
              "\n",
              "                                           EdLevel  \\\n",
              "0                                              NaN   \n",
              "1                                              NaN   \n",
              "2  Master’s degree (M.A., M.S., M.Eng., MBA, etc.)   \n",
              "3     Bachelor’s degree (B.A., B.S., B.Eng., etc.)   \n",
              "4     Bachelor’s degree (B.A., B.S., B.Eng., etc.)   \n",
              "\n",
              "                                           LearnCode  \\\n",
              "0                                                NaN   \n",
              "1                                                NaN   \n",
              "2  Books / Physical media;Friend or family member...   \n",
              "3  Books / Physical media;School (i.e., Universit...   \n",
              "4  Other online resources (e.g., videos, blogs, f...   \n",
              "\n",
              "                                     LearnCodeOnline LearnCodeCoursesCert  \\\n",
              "0                                                NaN                  NaN   \n",
              "1                                                NaN                  NaN   \n",
              "2  Technical documentation;Blogs;Programming Game...                  NaN   \n",
              "3                                                NaN                  NaN   \n",
              "4  Technical documentation;Blogs;Stack Overflow;O...                  NaN   \n",
              "\n",
              "  YearsCode  ... TimeSearching TimeAnswering Onboarding ProfessionalTech  \\\n",
              "0       NaN  ...           NaN           NaN        NaN              NaN   \n",
              "1       NaN  ...           NaN           NaN        NaN              NaN   \n",
              "2        14  ...           NaN           NaN        NaN              NaN   \n",
              "3        20  ...           NaN           NaN        NaN              NaN   \n",
              "4         8  ...           NaN           NaN        NaN              NaN   \n",
              "\n",
              "  TrueFalse_1 TrueFalse_2 TrueFalse_3           SurveyLength  \\\n",
              "0         NaN         NaN         NaN                    NaN   \n",
              "1         NaN         NaN         NaN               Too long   \n",
              "2         NaN         NaN         NaN  Appropriate in length   \n",
              "3         NaN         NaN         NaN  Appropriate in length   \n",
              "4         NaN         NaN         NaN               Too long   \n",
              "\n",
              "                   SurveyEase ConvertedCompYearly  \n",
              "0                         NaN                 NaN  \n",
              "1                   Difficult                 NaN  \n",
              "2  Neither easy nor difficult             40205.0  \n",
              "3                        Easy            215232.0  \n",
              "4                        Easy                 NaN  \n",
              "\n",
              "[5 rows x 79 columns]"
            ],
            "text/html": [
              "\n",
              "  <div id=\"df-05dc6d39-15aa-4a26-a1c3-2bec99daccda\">\n",
              "    <div class=\"colab-df-container\">\n",
              "      <div>\n",
              "<style scoped>\n",
              "    .dataframe tbody tr th:only-of-type {\n",
              "        vertical-align: middle;\n",
              "    }\n",
              "\n",
              "    .dataframe tbody tr th {\n",
              "        vertical-align: top;\n",
              "    }\n",
              "\n",
              "    .dataframe thead th {\n",
              "        text-align: right;\n",
              "    }\n",
              "</style>\n",
              "<table border=\"1\" class=\"dataframe\">\n",
              "  <thead>\n",
              "    <tr style=\"text-align: right;\">\n",
              "      <th></th>\n",
              "      <th>ResponseId</th>\n",
              "      <th>MainBranch</th>\n",
              "      <th>Employment</th>\n",
              "      <th>RemoteWork</th>\n",
              "      <th>CodingActivities</th>\n",
              "      <th>EdLevel</th>\n",
              "      <th>LearnCode</th>\n",
              "      <th>LearnCodeOnline</th>\n",
              "      <th>LearnCodeCoursesCert</th>\n",
              "      <th>YearsCode</th>\n",
              "      <th>...</th>\n",
              "      <th>TimeSearching</th>\n",
              "      <th>TimeAnswering</th>\n",
              "      <th>Onboarding</th>\n",
              "      <th>ProfessionalTech</th>\n",
              "      <th>TrueFalse_1</th>\n",
              "      <th>TrueFalse_2</th>\n",
              "      <th>TrueFalse_3</th>\n",
              "      <th>SurveyLength</th>\n",
              "      <th>SurveyEase</th>\n",
              "      <th>ConvertedCompYearly</th>\n",
              "    </tr>\n",
              "  </thead>\n",
              "  <tbody>\n",
              "    <tr>\n",
              "      <th>0</th>\n",
              "      <td>1</td>\n",
              "      <td>None of these</td>\n",
              "      <td>NaN</td>\n",
              "      <td>NaN</td>\n",
              "      <td>NaN</td>\n",
              "      <td>NaN</td>\n",
              "      <td>NaN</td>\n",
              "      <td>NaN</td>\n",
              "      <td>NaN</td>\n",
              "      <td>NaN</td>\n",
              "      <td>...</td>\n",
              "      <td>NaN</td>\n",
              "      <td>NaN</td>\n",
              "      <td>NaN</td>\n",
              "      <td>NaN</td>\n",
              "      <td>NaN</td>\n",
              "      <td>NaN</td>\n",
              "      <td>NaN</td>\n",
              "      <td>NaN</td>\n",
              "      <td>NaN</td>\n",
              "      <td>NaN</td>\n",
              "    </tr>\n",
              "    <tr>\n",
              "      <th>1</th>\n",
              "      <td>2</td>\n",
              "      <td>I am a developer by profession</td>\n",
              "      <td>Employed, full-time</td>\n",
              "      <td>Fully remote</td>\n",
              "      <td>Hobby;Contribute to open-source projects</td>\n",
              "      <td>NaN</td>\n",
              "      <td>NaN</td>\n",
              "      <td>NaN</td>\n",
              "      <td>NaN</td>\n",
              "      <td>NaN</td>\n",
              "      <td>...</td>\n",
              "      <td>NaN</td>\n",
              "      <td>NaN</td>\n",
              "      <td>NaN</td>\n",
              "      <td>NaN</td>\n",
              "      <td>NaN</td>\n",
              "      <td>NaN</td>\n",
              "      <td>NaN</td>\n",
              "      <td>Too long</td>\n",
              "      <td>Difficult</td>\n",
              "      <td>NaN</td>\n",
              "    </tr>\n",
              "    <tr>\n",
              "      <th>2</th>\n",
              "      <td>3</td>\n",
              "      <td>I am not primarily a developer, but I write co...</td>\n",
              "      <td>Employed, full-time</td>\n",
              "      <td>Hybrid (some remote, some in-person)</td>\n",
              "      <td>Hobby</td>\n",
              "      <td>Master’s degree (M.A., M.S., M.Eng., MBA, etc.)</td>\n",
              "      <td>Books / Physical media;Friend or family member...</td>\n",
              "      <td>Technical documentation;Blogs;Programming Game...</td>\n",
              "      <td>NaN</td>\n",
              "      <td>14</td>\n",
              "      <td>...</td>\n",
              "      <td>NaN</td>\n",
              "      <td>NaN</td>\n",
              "      <td>NaN</td>\n",
              "      <td>NaN</td>\n",
              "      <td>NaN</td>\n",
              "      <td>NaN</td>\n",
              "      <td>NaN</td>\n",
              "      <td>Appropriate in length</td>\n",
              "      <td>Neither easy nor difficult</td>\n",
              "      <td>40205.0</td>\n",
              "    </tr>\n",
              "    <tr>\n",
              "      <th>3</th>\n",
              "      <td>4</td>\n",
              "      <td>I am a developer by profession</td>\n",
              "      <td>Employed, full-time</td>\n",
              "      <td>Fully remote</td>\n",
              "      <td>I don’t code outside of work</td>\n",
              "      <td>Bachelor’s degree (B.A., B.S., B.Eng., etc.)</td>\n",
              "      <td>Books / Physical media;School (i.e., Universit...</td>\n",
              "      <td>NaN</td>\n",
              "      <td>NaN</td>\n",
              "      <td>20</td>\n",
              "      <td>...</td>\n",
              "      <td>NaN</td>\n",
              "      <td>NaN</td>\n",
              "      <td>NaN</td>\n",
              "      <td>NaN</td>\n",
              "      <td>NaN</td>\n",
              "      <td>NaN</td>\n",
              "      <td>NaN</td>\n",
              "      <td>Appropriate in length</td>\n",
              "      <td>Easy</td>\n",
              "      <td>215232.0</td>\n",
              "    </tr>\n",
              "    <tr>\n",
              "      <th>4</th>\n",
              "      <td>5</td>\n",
              "      <td>I am a developer by profession</td>\n",
              "      <td>Employed, full-time</td>\n",
              "      <td>Hybrid (some remote, some in-person)</td>\n",
              "      <td>Hobby</td>\n",
              "      <td>Bachelor’s degree (B.A., B.S., B.Eng., etc.)</td>\n",
              "      <td>Other online resources (e.g., videos, blogs, f...</td>\n",
              "      <td>Technical documentation;Blogs;Stack Overflow;O...</td>\n",
              "      <td>NaN</td>\n",
              "      <td>8</td>\n",
              "      <td>...</td>\n",
              "      <td>NaN</td>\n",
              "      <td>NaN</td>\n",
              "      <td>NaN</td>\n",
              "      <td>NaN</td>\n",
              "      <td>NaN</td>\n",
              "      <td>NaN</td>\n",
              "      <td>NaN</td>\n",
              "      <td>Too long</td>\n",
              "      <td>Easy</td>\n",
              "      <td>NaN</td>\n",
              "    </tr>\n",
              "  </tbody>\n",
              "</table>\n",
              "<p>5 rows × 79 columns</p>\n",
              "</div>\n",
              "      <button class=\"colab-df-convert\" onclick=\"convertToInteractive('df-05dc6d39-15aa-4a26-a1c3-2bec99daccda')\"\n",
              "              title=\"Convert this dataframe to an interactive table.\"\n",
              "              style=\"display:none;\">\n",
              "        \n",
              "  <svg xmlns=\"http://www.w3.org/2000/svg\" height=\"24px\"viewBox=\"0 0 24 24\"\n",
              "       width=\"24px\">\n",
              "    <path d=\"M0 0h24v24H0V0z\" fill=\"none\"/>\n",
              "    <path d=\"M18.56 5.44l.94 2.06.94-2.06 2.06-.94-2.06-.94-.94-2.06-.94 2.06-2.06.94zm-11 1L8.5 8.5l.94-2.06 2.06-.94-2.06-.94L8.5 2.5l-.94 2.06-2.06.94zm10 10l.94 2.06.94-2.06 2.06-.94-2.06-.94-.94-2.06-.94 2.06-2.06.94z\"/><path d=\"M17.41 7.96l-1.37-1.37c-.4-.4-.92-.59-1.43-.59-.52 0-1.04.2-1.43.59L10.3 9.45l-7.72 7.72c-.78.78-.78 2.05 0 2.83L4 21.41c.39.39.9.59 1.41.59.51 0 1.02-.2 1.41-.59l7.78-7.78 2.81-2.81c.8-.78.8-2.07 0-2.86zM5.41 20L4 18.59l7.72-7.72 1.47 1.35L5.41 20z\"/>\n",
              "  </svg>\n",
              "      </button>\n",
              "      \n",
              "  <style>\n",
              "    .colab-df-container {\n",
              "      display:flex;\n",
              "      flex-wrap:wrap;\n",
              "      gap: 12px;\n",
              "    }\n",
              "\n",
              "    .colab-df-convert {\n",
              "      background-color: #E8F0FE;\n",
              "      border: none;\n",
              "      border-radius: 50%;\n",
              "      cursor: pointer;\n",
              "      display: none;\n",
              "      fill: #1967D2;\n",
              "      height: 32px;\n",
              "      padding: 0 0 0 0;\n",
              "      width: 32px;\n",
              "    }\n",
              "\n",
              "    .colab-df-convert:hover {\n",
              "      background-color: #E2EBFA;\n",
              "      box-shadow: 0px 1px 2px rgba(60, 64, 67, 0.3), 0px 1px 3px 1px rgba(60, 64, 67, 0.15);\n",
              "      fill: #174EA6;\n",
              "    }\n",
              "\n",
              "    [theme=dark] .colab-df-convert {\n",
              "      background-color: #3B4455;\n",
              "      fill: #D2E3FC;\n",
              "    }\n",
              "\n",
              "    [theme=dark] .colab-df-convert:hover {\n",
              "      background-color: #434B5C;\n",
              "      box-shadow: 0px 1px 3px 1px rgba(0, 0, 0, 0.15);\n",
              "      filter: drop-shadow(0px 1px 2px rgba(0, 0, 0, 0.3));\n",
              "      fill: #FFFFFF;\n",
              "    }\n",
              "  </style>\n",
              "\n",
              "      <script>\n",
              "        const buttonEl =\n",
              "          document.querySelector('#df-05dc6d39-15aa-4a26-a1c3-2bec99daccda button.colab-df-convert');\n",
              "        buttonEl.style.display =\n",
              "          google.colab.kernel.accessAllowed ? 'block' : 'none';\n",
              "\n",
              "        async function convertToInteractive(key) {\n",
              "          const element = document.querySelector('#df-05dc6d39-15aa-4a26-a1c3-2bec99daccda');\n",
              "          const dataTable =\n",
              "            await google.colab.kernel.invokeFunction('convertToInteractive',\n",
              "                                                     [key], {});\n",
              "          if (!dataTable) return;\n",
              "\n",
              "          const docLinkHtml = 'Like what you see? Visit the ' +\n",
              "            '<a target=\"_blank\" href=https://colab.research.google.com/notebooks/data_table.ipynb>data table notebook</a>'\n",
              "            + ' to learn more about interactive tables.';\n",
              "          element.innerHTML = '';\n",
              "          dataTable['output_type'] = 'display_data';\n",
              "          await google.colab.output.renderOutput(dataTable, element);\n",
              "          const docLink = document.createElement('div');\n",
              "          docLink.innerHTML = docLinkHtml;\n",
              "          element.appendChild(docLink);\n",
              "        }\n",
              "      </script>\n",
              "    </div>\n",
              "  </div>\n",
              "  "
            ]
          },
          "metadata": {},
          "execution_count": 4
        }
      ]
    },
    {
      "cell_type": "code",
      "source": [
        "survey_result.shape"
      ],
      "metadata": {
        "colab": {
          "base_uri": "https://localhost:8080/"
        },
        "id": "Ayl6OzpS912Z",
        "outputId": "bc5b92f7-bbd1-4ec6-c256-9995dd24dbf1"
      },
      "execution_count": null,
      "outputs": [
        {
          "output_type": "execute_result",
          "data": {
            "text/plain": [
              "(73268, 79)"
            ]
          },
          "metadata": {},
          "execution_count": 5
        }
      ]
    },
    {
      "cell_type": "code",
      "source": [
        "survey_result.columns"
      ],
      "metadata": {
        "colab": {
          "base_uri": "https://localhost:8080/"
        },
        "id": "pqBg96LYAKnJ",
        "outputId": "1f0964c5-450a-4019-994b-56f7c577a510"
      },
      "execution_count": null,
      "outputs": [
        {
          "output_type": "execute_result",
          "data": {
            "text/plain": [
              "Index(['ResponseId', 'MainBranch', 'Employment', 'RemoteWork',\n",
              "       'CodingActivities', 'EdLevel', 'LearnCode', 'LearnCodeOnline',\n",
              "       'LearnCodeCoursesCert', 'YearsCode', 'YearsCodePro', 'DevType',\n",
              "       'OrgSize', 'PurchaseInfluence', 'BuyNewTool', 'Country', 'Currency',\n",
              "       'CompTotal', 'CompFreq', 'LanguageHaveWorkedWith',\n",
              "       'LanguageWantToWorkWith', 'DatabaseHaveWorkedWith',\n",
              "       'DatabaseWantToWorkWith', 'PlatformHaveWorkedWith',\n",
              "       'PlatformWantToWorkWith', 'WebframeHaveWorkedWith',\n",
              "       'WebframeWantToWorkWith', 'MiscTechHaveWorkedWith',\n",
              "       'MiscTechWantToWorkWith', 'ToolsTechHaveWorkedWith',\n",
              "       'ToolsTechWantToWorkWith', 'NEWCollabToolsHaveWorkedWith',\n",
              "       'NEWCollabToolsWantToWorkWith', 'OpSysProfessional use',\n",
              "       'OpSysPersonal use', 'VersionControlSystem', 'VCInteraction',\n",
              "       'VCHostingPersonal use', 'VCHostingProfessional use',\n",
              "       'OfficeStackAsyncHaveWorkedWith', 'OfficeStackAsyncWantToWorkWith',\n",
              "       'OfficeStackSyncHaveWorkedWith', 'OfficeStackSyncWantToWorkWith',\n",
              "       'Blockchain', 'NEWSOSites', 'SOVisitFreq', 'SOAccount', 'SOPartFreq',\n",
              "       'SOComm', 'Age', 'Gender', 'Trans', 'Sexuality', 'Ethnicity',\n",
              "       'Accessibility', 'MentalHealth', 'TBranch', 'ICorPM', 'WorkExp',\n",
              "       'Knowledge_1', 'Knowledge_2', 'Knowledge_3', 'Knowledge_4',\n",
              "       'Knowledge_5', 'Knowledge_6', 'Knowledge_7', 'Frequency_1',\n",
              "       'Frequency_2', 'Frequency_3', 'TimeSearching', 'TimeAnswering',\n",
              "       'Onboarding', 'ProfessionalTech', 'TrueFalse_1', 'TrueFalse_2',\n",
              "       'TrueFalse_3', 'SurveyLength', 'SurveyEase', 'ConvertedCompYearly'],\n",
              "      dtype='object')"
            ]
          },
          "metadata": {},
          "execution_count": 6
        }
      ]
    },
    {
      "cell_type": "markdown",
      "source": [
        "**Data Cleaning and Exploration**"
      ],
      "metadata": {
        "id": "bow2RJ97Quds"
      }
    },
    {
      "cell_type": "code",
      "source": [
        "select_column = ['MainBranch', 'Country', 'Age', 'Gender','Employment', 'RemoteWork', 'EdLevel', 'LearnCode','CodingActivities',  'LearnCodeOnline',\n",
        "       'LearnCodeCoursesCert', 'YearsCode', 'DevType', 'ConvertedCompYearly', 'LanguageHaveWorkedWith', 'WorkExp', 'TimeSearching',\n",
        "       'LanguageWantToWorkWith','PlatformHaveWorkedWith', 'PlatformWantToWorkWith','ToolsTechHaveWorkedWith', 'ToolsTechWantToWorkWith']"
      ],
      "metadata": {
        "id": "54sMcE9XSvnu"
      },
      "execution_count": null,
      "outputs": []
    },
    {
      "cell_type": "code",
      "source": [
        "len(select_column)"
      ],
      "metadata": {
        "colab": {
          "base_uri": "https://localhost:8080/"
        },
        "id": "yQApWwiSV7Ah",
        "outputId": "0520201b-fc37-4be8-a954-f020af8902d6"
      },
      "execution_count": null,
      "outputs": [
        {
          "output_type": "execute_result",
          "data": {
            "text/plain": [
              "22"
            ]
          },
          "metadata": {},
          "execution_count": 8
        }
      ]
    },
    {
      "cell_type": "code",
      "source": [
        "#extract a copy of the data from these columns into a new data frame survey_df. We can continue to modify further without affecting the original data frame.\n",
        "survey_df = survey_result[select_column].copy()"
      ],
      "metadata": {
        "id": "2cMX3_DMWGqW"
      },
      "execution_count": null,
      "outputs": []
    },
    {
      "cell_type": "code",
      "source": [
        "survey_df.head()"
      ],
      "metadata": {
        "colab": {
          "base_uri": "https://localhost:8080/",
          "height": 646
        },
        "id": "FKEH6GAkWx2K",
        "outputId": "03e6a8c5-583d-4650-c019-78a49b0a8ce6"
      },
      "execution_count": null,
      "outputs": [
        {
          "output_type": "execute_result",
          "data": {
            "text/plain": [
              "                                          MainBranch  \\\n",
              "0                                      None of these   \n",
              "1                     I am a developer by profession   \n",
              "2  I am not primarily a developer, but I write co...   \n",
              "3                     I am a developer by profession   \n",
              "4                     I am a developer by profession   \n",
              "\n",
              "                                             Country              Age Gender  \\\n",
              "0                                                NaN              NaN    NaN   \n",
              "1                                             Canada              NaN    NaN   \n",
              "2  United Kingdom of Great Britain and Northern I...  25-34 years old    Man   \n",
              "3                                             Israel  35-44 years old    Man   \n",
              "4                           United States of America  25-34 years old    NaN   \n",
              "\n",
              "            Employment                            RemoteWork  \\\n",
              "0                  NaN                                   NaN   \n",
              "1  Employed, full-time                          Fully remote   \n",
              "2  Employed, full-time  Hybrid (some remote, some in-person)   \n",
              "3  Employed, full-time                          Fully remote   \n",
              "4  Employed, full-time  Hybrid (some remote, some in-person)   \n",
              "\n",
              "                                           EdLevel  \\\n",
              "0                                              NaN   \n",
              "1                                              NaN   \n",
              "2  Master’s degree (M.A., M.S., M.Eng., MBA, etc.)   \n",
              "3     Bachelor’s degree (B.A., B.S., B.Eng., etc.)   \n",
              "4     Bachelor’s degree (B.A., B.S., B.Eng., etc.)   \n",
              "\n",
              "                                           LearnCode  \\\n",
              "0                                                NaN   \n",
              "1                                                NaN   \n",
              "2  Books / Physical media;Friend or family member...   \n",
              "3  Books / Physical media;School (i.e., Universit...   \n",
              "4  Other online resources (e.g., videos, blogs, f...   \n",
              "\n",
              "                           CodingActivities  \\\n",
              "0                                       NaN   \n",
              "1  Hobby;Contribute to open-source projects   \n",
              "2                                     Hobby   \n",
              "3              I don’t code outside of work   \n",
              "4                                     Hobby   \n",
              "\n",
              "                                     LearnCodeOnline  ...  \\\n",
              "0                                                NaN  ...   \n",
              "1                                                NaN  ...   \n",
              "2  Technical documentation;Blogs;Programming Game...  ...   \n",
              "3                                                NaN  ...   \n",
              "4  Technical documentation;Blogs;Stack Overflow;O...  ...   \n",
              "\n",
              "                                             DevType ConvertedCompYearly  \\\n",
              "0                                                NaN                 NaN   \n",
              "1                                                NaN                 NaN   \n",
              "2  Data scientist or machine learning specialist;...             40205.0   \n",
              "3                              Developer, full-stack            215232.0   \n",
              "4  Developer, front-end;Developer, full-stack;Dev...                 NaN   \n",
              "\n",
              "                        LanguageHaveWorkedWith  WorkExp TimeSearching  \\\n",
              "0                                          NaN      NaN           NaN   \n",
              "1                        JavaScript;TypeScript      NaN           NaN   \n",
              "2            C#;C++;HTML/CSS;JavaScript;Python      NaN           NaN   \n",
              "3                 C#;JavaScript;SQL;TypeScript      NaN           NaN   \n",
              "4  C#;HTML/CSS;JavaScript;SQL;Swift;TypeScript      NaN           NaN   \n",
              "\n",
              "                       LanguageWantToWorkWith    PlatformHaveWorkedWith  \\\n",
              "0                                         NaN                       NaN   \n",
              "1                             Rust;TypeScript                       NaN   \n",
              "2       C#;C++;HTML/CSS;JavaScript;TypeScript                       NaN   \n",
              "3                           C#;SQL;TypeScript                       NaN   \n",
              "4  C#;Elixir;F#;Go;JavaScript;Rust;TypeScript  Firebase;Microsoft Azure   \n",
              "\n",
              "     PlatformWantToWorkWith ToolsTechHaveWorkedWith ToolsTechWantToWorkWith  \n",
              "0                       NaN                     NaN                     NaN  \n",
              "1                       NaN                     NaN                     NaN  \n",
              "2                       NaN                     NaN                     NaN  \n",
              "3                       NaN                     NaN                     NaN  \n",
              "4  Firebase;Microsoft Azure                     npm       Docker;Kubernetes  \n",
              "\n",
              "[5 rows x 22 columns]"
            ],
            "text/html": [
              "\n",
              "  <div id=\"df-371c0ba4-0df7-4dbd-ae86-bf80566a9e1d\">\n",
              "    <div class=\"colab-df-container\">\n",
              "      <div>\n",
              "<style scoped>\n",
              "    .dataframe tbody tr th:only-of-type {\n",
              "        vertical-align: middle;\n",
              "    }\n",
              "\n",
              "    .dataframe tbody tr th {\n",
              "        vertical-align: top;\n",
              "    }\n",
              "\n",
              "    .dataframe thead th {\n",
              "        text-align: right;\n",
              "    }\n",
              "</style>\n",
              "<table border=\"1\" class=\"dataframe\">\n",
              "  <thead>\n",
              "    <tr style=\"text-align: right;\">\n",
              "      <th></th>\n",
              "      <th>MainBranch</th>\n",
              "      <th>Country</th>\n",
              "      <th>Age</th>\n",
              "      <th>Gender</th>\n",
              "      <th>Employment</th>\n",
              "      <th>RemoteWork</th>\n",
              "      <th>EdLevel</th>\n",
              "      <th>LearnCode</th>\n",
              "      <th>CodingActivities</th>\n",
              "      <th>LearnCodeOnline</th>\n",
              "      <th>...</th>\n",
              "      <th>DevType</th>\n",
              "      <th>ConvertedCompYearly</th>\n",
              "      <th>LanguageHaveWorkedWith</th>\n",
              "      <th>WorkExp</th>\n",
              "      <th>TimeSearching</th>\n",
              "      <th>LanguageWantToWorkWith</th>\n",
              "      <th>PlatformHaveWorkedWith</th>\n",
              "      <th>PlatformWantToWorkWith</th>\n",
              "      <th>ToolsTechHaveWorkedWith</th>\n",
              "      <th>ToolsTechWantToWorkWith</th>\n",
              "    </tr>\n",
              "  </thead>\n",
              "  <tbody>\n",
              "    <tr>\n",
              "      <th>0</th>\n",
              "      <td>None of these</td>\n",
              "      <td>NaN</td>\n",
              "      <td>NaN</td>\n",
              "      <td>NaN</td>\n",
              "      <td>NaN</td>\n",
              "      <td>NaN</td>\n",
              "      <td>NaN</td>\n",
              "      <td>NaN</td>\n",
              "      <td>NaN</td>\n",
              "      <td>NaN</td>\n",
              "      <td>...</td>\n",
              "      <td>NaN</td>\n",
              "      <td>NaN</td>\n",
              "      <td>NaN</td>\n",
              "      <td>NaN</td>\n",
              "      <td>NaN</td>\n",
              "      <td>NaN</td>\n",
              "      <td>NaN</td>\n",
              "      <td>NaN</td>\n",
              "      <td>NaN</td>\n",
              "      <td>NaN</td>\n",
              "    </tr>\n",
              "    <tr>\n",
              "      <th>1</th>\n",
              "      <td>I am a developer by profession</td>\n",
              "      <td>Canada</td>\n",
              "      <td>NaN</td>\n",
              "      <td>NaN</td>\n",
              "      <td>Employed, full-time</td>\n",
              "      <td>Fully remote</td>\n",
              "      <td>NaN</td>\n",
              "      <td>NaN</td>\n",
              "      <td>Hobby;Contribute to open-source projects</td>\n",
              "      <td>NaN</td>\n",
              "      <td>...</td>\n",
              "      <td>NaN</td>\n",
              "      <td>NaN</td>\n",
              "      <td>JavaScript;TypeScript</td>\n",
              "      <td>NaN</td>\n",
              "      <td>NaN</td>\n",
              "      <td>Rust;TypeScript</td>\n",
              "      <td>NaN</td>\n",
              "      <td>NaN</td>\n",
              "      <td>NaN</td>\n",
              "      <td>NaN</td>\n",
              "    </tr>\n",
              "    <tr>\n",
              "      <th>2</th>\n",
              "      <td>I am not primarily a developer, but I write co...</td>\n",
              "      <td>United Kingdom of Great Britain and Northern I...</td>\n",
              "      <td>25-34 years old</td>\n",
              "      <td>Man</td>\n",
              "      <td>Employed, full-time</td>\n",
              "      <td>Hybrid (some remote, some in-person)</td>\n",
              "      <td>Master’s degree (M.A., M.S., M.Eng., MBA, etc.)</td>\n",
              "      <td>Books / Physical media;Friend or family member...</td>\n",
              "      <td>Hobby</td>\n",
              "      <td>Technical documentation;Blogs;Programming Game...</td>\n",
              "      <td>...</td>\n",
              "      <td>Data scientist or machine learning specialist;...</td>\n",
              "      <td>40205.0</td>\n",
              "      <td>C#;C++;HTML/CSS;JavaScript;Python</td>\n",
              "      <td>NaN</td>\n",
              "      <td>NaN</td>\n",
              "      <td>C#;C++;HTML/CSS;JavaScript;TypeScript</td>\n",
              "      <td>NaN</td>\n",
              "      <td>NaN</td>\n",
              "      <td>NaN</td>\n",
              "      <td>NaN</td>\n",
              "    </tr>\n",
              "    <tr>\n",
              "      <th>3</th>\n",
              "      <td>I am a developer by profession</td>\n",
              "      <td>Israel</td>\n",
              "      <td>35-44 years old</td>\n",
              "      <td>Man</td>\n",
              "      <td>Employed, full-time</td>\n",
              "      <td>Fully remote</td>\n",
              "      <td>Bachelor’s degree (B.A., B.S., B.Eng., etc.)</td>\n",
              "      <td>Books / Physical media;School (i.e., Universit...</td>\n",
              "      <td>I don’t code outside of work</td>\n",
              "      <td>NaN</td>\n",
              "      <td>...</td>\n",
              "      <td>Developer, full-stack</td>\n",
              "      <td>215232.0</td>\n",
              "      <td>C#;JavaScript;SQL;TypeScript</td>\n",
              "      <td>NaN</td>\n",
              "      <td>NaN</td>\n",
              "      <td>C#;SQL;TypeScript</td>\n",
              "      <td>NaN</td>\n",
              "      <td>NaN</td>\n",
              "      <td>NaN</td>\n",
              "      <td>NaN</td>\n",
              "    </tr>\n",
              "    <tr>\n",
              "      <th>4</th>\n",
              "      <td>I am a developer by profession</td>\n",
              "      <td>United States of America</td>\n",
              "      <td>25-34 years old</td>\n",
              "      <td>NaN</td>\n",
              "      <td>Employed, full-time</td>\n",
              "      <td>Hybrid (some remote, some in-person)</td>\n",
              "      <td>Bachelor’s degree (B.A., B.S., B.Eng., etc.)</td>\n",
              "      <td>Other online resources (e.g., videos, blogs, f...</td>\n",
              "      <td>Hobby</td>\n",
              "      <td>Technical documentation;Blogs;Stack Overflow;O...</td>\n",
              "      <td>...</td>\n",
              "      <td>Developer, front-end;Developer, full-stack;Dev...</td>\n",
              "      <td>NaN</td>\n",
              "      <td>C#;HTML/CSS;JavaScript;SQL;Swift;TypeScript</td>\n",
              "      <td>NaN</td>\n",
              "      <td>NaN</td>\n",
              "      <td>C#;Elixir;F#;Go;JavaScript;Rust;TypeScript</td>\n",
              "      <td>Firebase;Microsoft Azure</td>\n",
              "      <td>Firebase;Microsoft Azure</td>\n",
              "      <td>npm</td>\n",
              "      <td>Docker;Kubernetes</td>\n",
              "    </tr>\n",
              "  </tbody>\n",
              "</table>\n",
              "<p>5 rows × 22 columns</p>\n",
              "</div>\n",
              "      <button class=\"colab-df-convert\" onclick=\"convertToInteractive('df-371c0ba4-0df7-4dbd-ae86-bf80566a9e1d')\"\n",
              "              title=\"Convert this dataframe to an interactive table.\"\n",
              "              style=\"display:none;\">\n",
              "        \n",
              "  <svg xmlns=\"http://www.w3.org/2000/svg\" height=\"24px\"viewBox=\"0 0 24 24\"\n",
              "       width=\"24px\">\n",
              "    <path d=\"M0 0h24v24H0V0z\" fill=\"none\"/>\n",
              "    <path d=\"M18.56 5.44l.94 2.06.94-2.06 2.06-.94-2.06-.94-.94-2.06-.94 2.06-2.06.94zm-11 1L8.5 8.5l.94-2.06 2.06-.94-2.06-.94L8.5 2.5l-.94 2.06-2.06.94zm10 10l.94 2.06.94-2.06 2.06-.94-2.06-.94-.94-2.06-.94 2.06-2.06.94z\"/><path d=\"M17.41 7.96l-1.37-1.37c-.4-.4-.92-.59-1.43-.59-.52 0-1.04.2-1.43.59L10.3 9.45l-7.72 7.72c-.78.78-.78 2.05 0 2.83L4 21.41c.39.39.9.59 1.41.59.51 0 1.02-.2 1.41-.59l7.78-7.78 2.81-2.81c.8-.78.8-2.07 0-2.86zM5.41 20L4 18.59l7.72-7.72 1.47 1.35L5.41 20z\"/>\n",
              "  </svg>\n",
              "      </button>\n",
              "      \n",
              "  <style>\n",
              "    .colab-df-container {\n",
              "      display:flex;\n",
              "      flex-wrap:wrap;\n",
              "      gap: 12px;\n",
              "    }\n",
              "\n",
              "    .colab-df-convert {\n",
              "      background-color: #E8F0FE;\n",
              "      border: none;\n",
              "      border-radius: 50%;\n",
              "      cursor: pointer;\n",
              "      display: none;\n",
              "      fill: #1967D2;\n",
              "      height: 32px;\n",
              "      padding: 0 0 0 0;\n",
              "      width: 32px;\n",
              "    }\n",
              "\n",
              "    .colab-df-convert:hover {\n",
              "      background-color: #E2EBFA;\n",
              "      box-shadow: 0px 1px 2px rgba(60, 64, 67, 0.3), 0px 1px 3px 1px rgba(60, 64, 67, 0.15);\n",
              "      fill: #174EA6;\n",
              "    }\n",
              "\n",
              "    [theme=dark] .colab-df-convert {\n",
              "      background-color: #3B4455;\n",
              "      fill: #D2E3FC;\n",
              "    }\n",
              "\n",
              "    [theme=dark] .colab-df-convert:hover {\n",
              "      background-color: #434B5C;\n",
              "      box-shadow: 0px 1px 3px 1px rgba(0, 0, 0, 0.15);\n",
              "      filter: drop-shadow(0px 1px 2px rgba(0, 0, 0, 0.3));\n",
              "      fill: #FFFFFF;\n",
              "    }\n",
              "  </style>\n",
              "\n",
              "      <script>\n",
              "        const buttonEl =\n",
              "          document.querySelector('#df-371c0ba4-0df7-4dbd-ae86-bf80566a9e1d button.colab-df-convert');\n",
              "        buttonEl.style.display =\n",
              "          google.colab.kernel.accessAllowed ? 'block' : 'none';\n",
              "\n",
              "        async function convertToInteractive(key) {\n",
              "          const element = document.querySelector('#df-371c0ba4-0df7-4dbd-ae86-bf80566a9e1d');\n",
              "          const dataTable =\n",
              "            await google.colab.kernel.invokeFunction('convertToInteractive',\n",
              "                                                     [key], {});\n",
              "          if (!dataTable) return;\n",
              "\n",
              "          const docLinkHtml = 'Like what you see? Visit the ' +\n",
              "            '<a target=\"_blank\" href=https://colab.research.google.com/notebooks/data_table.ipynb>data table notebook</a>'\n",
              "            + ' to learn more about interactive tables.';\n",
              "          element.innerHTML = '';\n",
              "          dataTable['output_type'] = 'display_data';\n",
              "          await google.colab.output.renderOutput(dataTable, element);\n",
              "          const docLink = document.createElement('div');\n",
              "          docLink.innerHTML = docLinkHtml;\n",
              "          element.appendChild(docLink);\n",
              "        }\n",
              "      </script>\n",
              "    </div>\n",
              "  </div>\n",
              "  "
            ]
          },
          "metadata": {},
          "execution_count": 10
        }
      ]
    },
    {
      "cell_type": "code",
      "source": [
        "survey_df.info()"
      ],
      "metadata": {
        "colab": {
          "base_uri": "https://localhost:8080/"
        },
        "id": "xZa0V_4dW8FC",
        "outputId": "88d9374e-c3a0-4687-9c3b-e81ae7d331f4"
      },
      "execution_count": null,
      "outputs": [
        {
          "output_type": "stream",
          "name": "stdout",
          "text": [
            "<class 'pandas.core.frame.DataFrame'>\n",
            "RangeIndex: 73268 entries, 0 to 73267\n",
            "Data columns (total 22 columns):\n",
            " #   Column                   Non-Null Count  Dtype  \n",
            "---  ------                   --------------  -----  \n",
            " 0   MainBranch               73268 non-null  object \n",
            " 1   Country                  71771 non-null  object \n",
            " 2   Age                      70946 non-null  object \n",
            " 3   Gender                   70853 non-null  object \n",
            " 4   Employment               71709 non-null  object \n",
            " 5   RemoteWork               58958 non-null  object \n",
            " 6   EdLevel                  71571 non-null  object \n",
            " 7   LearnCode                71580 non-null  object \n",
            " 8   CodingActivities         58899 non-null  object \n",
            " 9   LearnCodeOnline          50685 non-null  object \n",
            " 10  LearnCodeCoursesCert     29389 non-null  object \n",
            " 11  YearsCode                71331 non-null  object \n",
            " 12  DevType                  61302 non-null  object \n",
            " 13  ConvertedCompYearly      38071 non-null  float64\n",
            " 14  LanguageHaveWorkedWith   70975 non-null  object \n",
            " 15  WorkExp                  36769 non-null  float64\n",
            " 16  TimeSearching            36198 non-null  object \n",
            " 17  LanguageWantToWorkWith   67027 non-null  object \n",
            " 18  PlatformHaveWorkedWith   49924 non-null  object \n",
            " 19  PlatformWantToWorkWith   40415 non-null  object \n",
            " 20  ToolsTechHaveWorkedWith  54171 non-null  object \n",
            " 21  ToolsTechWantToWorkWith  46566 non-null  object \n",
            "dtypes: float64(2), object(20)\n",
            "memory usage: 12.3+ MB\n"
          ]
        }
      ]
    },
    {
      "cell_type": "markdown",
      "source": [
        "**AGE**"
      ],
      "metadata": {
        "id": "e7TXwmFBGSuk"
      }
    },
    {
      "cell_type": "code",
      "source": [
        "survey_df.Age"
      ],
      "metadata": {
        "colab": {
          "base_uri": "https://localhost:8080/"
        },
        "id": "Sblai0eV-tha",
        "outputId": "0224c462-3ae4-4d82-dfa4-b55a2b103f60"
      },
      "execution_count": null,
      "outputs": [
        {
          "output_type": "execute_result",
          "data": {
            "text/plain": [
              "0                    NaN\n",
              "1                    NaN\n",
              "2        25-34 years old\n",
              "3        35-44 years old\n",
              "4        25-34 years old\n",
              "              ...       \n",
              "73263    25-34 years old\n",
              "73264    25-34 years old\n",
              "73265    55-64 years old\n",
              "73266    55-64 years old\n",
              "73267    25-34 years old\n",
              "Name: Age, Length: 73268, dtype: object"
            ]
          },
          "metadata": {},
          "execution_count": 12
        }
      ]
    },
    {
      "cell_type": "code",
      "source": [
        "survey_df['Age'].dropna()"
      ],
      "metadata": {
        "colab": {
          "base_uri": "https://localhost:8080/"
        },
        "id": "z47AwclMB2oJ",
        "outputId": "104a330c-e282-4c9e-990b-43b9c2fefb9c"
      },
      "execution_count": null,
      "outputs": [
        {
          "output_type": "execute_result",
          "data": {
            "text/plain": [
              "2           25-34 years old\n",
              "3           35-44 years old\n",
              "4           25-34 years old\n",
              "5           25-34 years old\n",
              "6        Under 18 years old\n",
              "                ...        \n",
              "73263       25-34 years old\n",
              "73264       25-34 years old\n",
              "73265       55-64 years old\n",
              "73266       55-64 years old\n",
              "73267       25-34 years old\n",
              "Name: Age, Length: 70946, dtype: object"
            ]
          },
          "metadata": {},
          "execution_count": 13
        }
      ]
    },
    {
      "cell_type": "code",
      "source": [
        "age_catagory = survey_df['Age'].value_counts()\n",
        "age_catagory"
      ],
      "metadata": {
        "colab": {
          "base_uri": "https://localhost:8080/"
        },
        "id": "MueXhkWmD6A0",
        "outputId": "0b2c5371-c20a-4db3-b38a-37551a27fcda"
      },
      "execution_count": null,
      "outputs": [
        {
          "output_type": "execute_result",
          "data": {
            "text/plain": [
              "25-34 years old       28112\n",
              "18-24 years old       16646\n",
              "35-44 years old       13988\n",
              "45-54 years old        5281\n",
              "Under 18 years old     3866\n",
              "55-64 years old        1978\n",
              "65 years or older       554\n",
              "Prefer not to say       521\n",
              "Name: Age, dtype: int64"
            ]
          },
          "metadata": {},
          "execution_count": 14
        }
      ]
    },
    {
      "cell_type": "code",
      "source": [
        "plt.figure(figsize=(12,6))\n",
        "plt.xticks(rotation=75)\n",
        "plt.title('different Age catagory')\n",
        "sns.barplot(x=age_catagory.index, y=age_catagory);"
      ],
      "metadata": {
        "colab": {
          "base_uri": "https://localhost:8080/",
          "height": 475
        },
        "id": "6XbwLsN6ENZo",
        "outputId": "4686ca1f-3868-445f-ffc4-9132d1b0e33d"
      },
      "execution_count": null,
      "outputs": [
        {
          "output_type": "display_data",
          "data": {
            "text/plain": [
              "<Figure size 864x432 with 1 Axes>"
            ],
            "image/png": "[encoded data removed]"
          },
          "metadata": {
            "needs_background": "light"
          }
        }
      ]
    },
    {
      "cell_type": "markdown",
      "source": [
        "**Country**"
      ],
      "metadata": {
        "id": "Wk-DvSO1IEFo"
      }
    },
    {
      "cell_type": "code",
      "source": [
        "survey_df.Country\n"
      ],
      "metadata": {
        "colab": {
          "base_uri": "https://localhost:8080/"
        },
        "id": "4zIBVpzDIGFw",
        "outputId": "48f7286d-fdaf-4ef8-8647-fd128cc80663"
      },
      "execution_count": null,
      "outputs": [
        {
          "output_type": "execute_result",
          "data": {
            "text/plain": [
              "0                                                      NaN\n",
              "1                                                   Canada\n",
              "2        United Kingdom of Great Britain and Northern I...\n",
              "3                                                   Israel\n",
              "4                                 United States of America\n",
              "                               ...                        \n",
              "73263                                              Nigeria\n",
              "73264                             United States of America\n",
              "73265                             United States of America\n",
              "73266    United Kingdom of Great Britain and Northern I...\n",
              "73267                                               Canada\n",
              "Name: Country, Length: 73268, dtype: object"
            ]
          },
          "metadata": {},
          "execution_count": 16
        }
      ]
    },
    {
      "cell_type": "code",
      "source": [
        "survey_df['Country'].isnull()"
      ],
      "metadata": {
        "colab": {
          "base_uri": "https://localhost:8080/"
        },
        "id": "Fn23k23fIQOx",
        "outputId": "48f90e1b-61e0-47ad-98d7-bbfed9780c11"
      },
      "execution_count": null,
      "outputs": [
        {
          "output_type": "execute_result",
          "data": {
            "text/plain": [
              "0         True\n",
              "1        False\n",
              "2        False\n",
              "3        False\n",
              "4        False\n",
              "         ...  \n",
              "73263    False\n",
              "73264    False\n",
              "73265    False\n",
              "73266    False\n",
              "73267    False\n",
              "Name: Country, Length: 73268, dtype: bool"
            ]
          },
          "metadata": {},
          "execution_count": 17
        }
      ]
    },
    {
      "cell_type": "code",
      "source": [
        "survey_df['Country'].dropna()"
      ],
      "metadata": {
        "colab": {
          "base_uri": "https://localhost:8080/"
        },
        "id": "diYmzTUdIeMH",
        "outputId": "8ab43743-0541-4f53-cb06-876f013275af"
      },
      "execution_count": null,
      "outputs": [
        {
          "output_type": "execute_result",
          "data": {
            "text/plain": [
              "1                                                   Canada\n",
              "2        United Kingdom of Great Britain and Northern I...\n",
              "3                                                   Israel\n",
              "4                                 United States of America\n",
              "5                                                  Germany\n",
              "                               ...                        \n",
              "73263                                              Nigeria\n",
              "73264                             United States of America\n",
              "73265                             United States of America\n",
              "73266    United Kingdom of Great Britain and Northern I...\n",
              "73267                                               Canada\n",
              "Name: Country, Length: 71771, dtype: object"
            ]
          },
          "metadata": {},
          "execution_count": 18
        }
      ]
    },
    {
      "cell_type": "code",
      "source": [
        "country = survey_df['Country'].value_counts().head(15)\n",
        "country"
      ],
      "metadata": {
        "colab": {
          "base_uri": "https://localhost:8080/"
        },
        "id": "WcfnLC_4ImQX",
        "outputId": "07329095-d53d-4c1c-ef29-427f3b09c6ba"
      },
      "execution_count": null,
      "outputs": [
        {
          "output_type": "execute_result",
          "data": {
            "text/plain": [
              "United States of America                                13543\n",
              "India                                                    6639\n",
              "Germany                                                  5395\n",
              "United Kingdom of Great Britain and Northern Ireland     4190\n",
              "Canada                                                   2490\n",
              "France                                                   2328\n",
              "Brazil                                                   2109\n",
              "Poland                                                   1732\n",
              "Netherlands                                              1555\n",
              "Spain                                                    1521\n",
              "Italy                                                    1514\n",
              "Australia                                                1462\n",
              "Russian Federation                                       1229\n",
              "Turkey                                                   1020\n",
              "Sweden                                                   1020\n",
              "Name: Country, dtype: int64"
            ]
          },
          "metadata": {},
          "execution_count": 19
        }
      ]
    },
    {
      "cell_type": "code",
      "source": [
        "plt.figure(figsize=(12,6))\n",
        "plt.xticks(rotation=75)\n",
        "plt.title('different Age catagory')\n",
        "sns.barplot(x=country.index, y=country);"
      ],
      "metadata": {
        "colab": {
          "base_uri": "https://localhost:8080/",
          "height": 641
        },
        "id": "IaCnEiHXI3YV",
        "outputId": "379be198-92a5-4050-dedd-0d28522f3f2c"
      },
      "execution_count": null,
      "outputs": [
        {
          "output_type": "display_data",
          "data": {
            "text/plain": [
              "<Figure size 864x432 with 1 Axes>"
            ],
            "image/png": "[encoded data removed]"
          },
          "metadata": {
            "needs_background": "light"
          }
        }
      ]
    },
    {
      "cell_type": "markdown",
      "source": [
        "**Gender**"
      ],
      "metadata": {
        "id": "_D4LVj-zLXAc"
      }
    },
    {
      "cell_type": "code",
      "source": [
        "survey_df.Gender"
      ],
      "metadata": {
        "colab": {
          "base_uri": "https://localhost:8080/"
        },
        "id": "JADuRyXMLSOn",
        "outputId": "8f739397-6c24-43a3-ae97-18730573ceb7"
      },
      "execution_count": null,
      "outputs": [
        {
          "output_type": "execute_result",
          "data": {
            "text/plain": [
              "0        NaN\n",
              "1        NaN\n",
              "2        Man\n",
              "3        Man\n",
              "4        NaN\n",
              "        ... \n",
              "73263    Man\n",
              "73264    Man\n",
              "73265    Man\n",
              "73266    Man\n",
              "73267    Man\n",
              "Name: Gender, Length: 73268, dtype: object"
            ]
          },
          "metadata": {},
          "execution_count": 21
        }
      ]
    },
    {
      "cell_type": "code",
      "source": [
        "survey_df['Gender'].value_counts()\n"
      ],
      "metadata": {
        "colab": {
          "base_uri": "https://localhost:8080/"
        },
        "id": "7mVqZZGAMdzx",
        "outputId": "8d1394af-c1d9-4256-b665-553e1f607e1a"
      },
      "execution_count": null,
      "outputs": [
        {
          "output_type": "execute_result",
          "data": {
            "text/plain": [
              "Man                                                                                   64607\n",
              "Woman                                                                                  3399\n",
              "Prefer not to say                                                                      1172\n",
              "Non-binary, genderqueer, or gender non-conforming                                       704\n",
              "Or, in your own words:                                                                  279\n",
              "Man;Non-binary, genderqueer, or gender non-conforming                                   235\n",
              "Man;Or, in your own words:                                                              171\n",
              "Woman;Non-binary, genderqueer, or gender non-conforming                                 160\n",
              "Man;Woman;Non-binary, genderqueer, or gender non-conforming                              31\n",
              "Man;Woman                                                                                24\n",
              "Man;Or, in your own words:;Woman;Non-binary, genderqueer, or gender non-conforming       18\n",
              "Or, in your own words:;Woman;Non-binary, genderqueer, or gender non-conforming           15\n",
              "Or, in your own words:;Non-binary, genderqueer, or gender non-conforming                 14\n",
              "Or, in your own words:;Woman                                                             13\n",
              "Man;Or, in your own words:;Non-binary, genderqueer, or gender non-conforming              9\n",
              "Man;Or, in your own words:;Woman                                                          2\n",
              "Name: Gender, dtype: int64"
            ]
          },
          "metadata": {},
          "execution_count": 22
        }
      ]
    },
    {
      "cell_type": "code",
      "source": [
        "survey_df.where(~(survey_df.Gender.str.contains(';', na=False)), np.nan, inplace=True)\n"
      ],
      "metadata": {
        "id": "zv_Ho2taLRch"
      },
      "execution_count": null,
      "outputs": []
    },
    {
      "cell_type": "code",
      "source": [
        "gender_counts = survey_df['Gender'].value_counts()\n",
        "gender_counts"
      ],
      "metadata": {
        "colab": {
          "base_uri": "https://localhost:8080/"
        },
        "id": "idswjfEsLhUd",
        "outputId": "3f36d13a-ba74-41b3-bcf2-ee348df83770"
      },
      "execution_count": null,
      "outputs": [
        {
          "output_type": "execute_result",
          "data": {
            "text/plain": [
              "Man                                                  64607\n",
              "Woman                                                 3399\n",
              "Prefer not to say                                     1172\n",
              "Non-binary, genderqueer, or gender non-conforming      704\n",
              "Or, in your own words:                                 279\n",
              "Name: Gender, dtype: int64"
            ]
          },
          "metadata": {},
          "execution_count": 24
        }
      ]
    },
    {
      "cell_type": "code",
      "source": [
        "plt.figure(figsize=(18,6))\n",
        "plt.title('Gender groups')\n",
        "plt.pie(gender_counts, labels=gender_counts.index, autopct='%1.1f%%', startangle=180);"
      ],
      "metadata": {
        "colab": {
          "base_uri": "https://localhost:8080/",
          "height": 373
        },
        "id": "KNXOPnOwMAmW",
        "outputId": "6170cbdb-8668-4936-c6d3-d1f49340fe7f"
      },
      "execution_count": null,
      "outputs": [
        {
          "output_type": "display_data",
          "data": {
            "text/plain": [
              "<Figure size 1296x432 with 1 Axes>"
            ],
            "image/png": "[encoded data removed]"
          },
          "metadata": {}
        }
      ]
    },
    {
      "cell_type": "markdown",
      "source": [
        "**Education Level**"
      ],
      "metadata": {
        "id": "xa3y698zNolb"
      }
    },
    {
      "cell_type": "code",
      "source": [
        "survey_df['EdLevel'].value_counts()\n"
      ],
      "metadata": {
        "colab": {
          "base_uri": "https://localhost:8080/"
        },
        "id": "YKa0VCmhN5mc",
        "outputId": "e4b8adea-93a5-49fc-93b3-2dee04059055"
      },
      "execution_count": null,
      "outputs": [
        {
          "output_type": "execute_result",
          "data": {
            "text/plain": [
              "Bachelor’s degree (B.A., B.S., B.Eng., etc.)                                          30050\n",
              "Master’s degree (M.A., M.S., M.Eng., MBA, etc.)                                       15394\n",
              "Some college/university study without earning a degree                                 9194\n",
              "Secondary school (e.g. American high school, German Realschule or Gymnasium, etc.)     7769\n",
              "Associate degree (A.A., A.S., etc.)                                                    2221\n",
              "Other doctoral degree (Ph.D., Ed.D., etc.)                                             2152\n",
              "Primary/elementary school                                                              1767\n",
              "Something else                                                                         1222\n",
              "Professional degree (JD, MD, etc.)                                                     1110\n",
              "Name: EdLevel, dtype: int64"
            ]
          },
          "metadata": {},
          "execution_count": 26
        }
      ]
    },
    {
      "cell_type": "code",
      "source": [
        "sns.countplot(y=survey_df.EdLevel)\n",
        "plt.xticks(rotation=75);\n",
        "plt.title('Highest Education level')\n",
        "plt.ylabel(None);\n",
        "\n"
      ],
      "metadata": {
        "colab": {
          "base_uri": "https://localhost:8080/",
          "height": 318
        },
        "id": "fDfOH9IpOgxu",
        "outputId": "1fb5dc01-5793-4be2-ac5e-00a8f6160e54"
      },
      "execution_count": null,
      "outputs": [
        {
          "output_type": "display_data",
          "data": {
            "text/plain": [
              "<Figure size 432x288 with 1 Axes>"
            ],
            "image/png": "[encoded data removed]"
          },
          "metadata": {
            "needs_background": "light"
          }
        }
      ]
    },
    {
      "cell_type": "code",
      "source": [
        "survey_df['Employment'].value_counts()"
      ],
      "metadata": {
        "colab": {
          "base_uri": "https://localhost:8080/"
        },
        "id": "X2F3mVC0RyMP",
        "outputId": "3376138e-459b-4547-bbc5-f97af71c12fa"
      },
      "execution_count": null,
      "outputs": [
        {
          "output_type": "execute_result",
          "data": {
            "text/plain": [
              "Employed, full-time                                                                                               42644\n",
              "Student, full-time                                                                                                 6663\n",
              "Independent contractor, freelancer, or self-employed                                                               4941\n",
              "Employed, full-time;Independent contractor, freelancer, or self-employed                                           3456\n",
              "Not employed, but looking for work                                                                                 1810\n",
              "                                                                                                                  ...  \n",
              "Student, part-time;Independent contractor, freelancer, or self-employed;Retired                                       1\n",
              "Employed, full-time;Student, full-time;Student, part-time;Independent contractor, freelancer, or self-employed        1\n",
              "Employed, part-time;Not employed, and not looking for work                                                            1\n",
              "Employed, full-time;Student, full-time;Retired                                                                        1\n",
              "Student, part-time;Independent contractor, freelancer, or self-employed;Employed, part-time;Retired                   1\n",
              "Name: Employment, Length: 100, dtype: int64"
            ]
          },
          "metadata": {},
          "execution_count": 28
        }
      ]
    },
    {
      "cell_type": "code",
      "source": [
        "survey_df.where(~(survey_df.Employment.str.contains(';', na=False)), np.nan, inplace=True)\n",
        "\n"
      ],
      "metadata": {
        "id": "AiiOR7bsPmuY"
      },
      "execution_count": null,
      "outputs": []
    },
    {
      "cell_type": "code",
      "source": [
        "survey_df['Employment'].value_counts()\n"
      ],
      "metadata": {
        "colab": {
          "base_uri": "https://localhost:8080/"
        },
        "id": "qXXY_GVdTp3i",
        "outputId": "9cba1cfe-d6f6-40eb-f5f2-7ce2ef4b0d13"
      },
      "execution_count": null,
      "outputs": [
        {
          "output_type": "execute_result",
          "data": {
            "text/plain": [
              "Employed, full-time                                     42644\n",
              "Student, full-time                                       6663\n",
              "Independent contractor, freelancer, or self-employed     4941\n",
              "Not employed, but looking for work                       1810\n",
              "Employed, part-time                                      1116\n",
              "Student, part-time                                       1036\n",
              "Not employed, and not looking for work                    705\n",
              "I prefer not to say                                       599\n",
              "Retired                                                   304\n",
              "Name: Employment, dtype: int64"
            ]
          },
          "metadata": {},
          "execution_count": 30
        }
      ]
    },
    {
      "cell_type": "code",
      "source": [
        "(survey_df.Employment.value_counts(normalize=True, ascending=True)*100).plot(kind='barh', color='b', grid=True)\n",
        "plt.title('Employment Percentage')\n",
        "plt.xlabel('Percentage')"
      ],
      "metadata": {
        "colab": {
          "base_uri": "https://localhost:8080/",
          "height": 312
        },
        "id": "2pFlrixsT7ow",
        "outputId": "39a82b12-0192-4c8e-c5cd-8678963ddc7a"
      },
      "execution_count": null,
      "outputs": [
        {
          "output_type": "execute_result",
          "data": {
            "text/plain": [
              "Text(0.5, 0, 'Percentage')"
            ]
          },
          "metadata": {},
          "execution_count": 31
        },
        {
          "output_type": "display_data",
          "data": {
            "text/plain": [
              "<Figure size 432x288 with 1 Axes>"
            ],
            "image/png": "[encoded data removed]"
          },
          "metadata": {
            "needs_background": "light"
          }
        }
      ]
    },
    {
      "cell_type": "markdown",
      "source": [
        "Dev Type"
      ],
      "metadata": {
        "id": "BTvp9x59WB1W"
      }
    },
    {
      "cell_type": "code",
      "source": [
        "survey_df['DevType'].value_counts()"
      ],
      "metadata": {
        "colab": {
          "base_uri": "https://localhost:8080/"
        },
        "id": "-vqh65ewWEHn",
        "outputId": "c099fc59-c757-439b-f810-bca2bc9de19d"
      },
      "execution_count": null,
      "outputs": [
        {
          "output_type": "execute_result",
          "data": {
            "text/plain": [
              "Developer, full-stack                                                                                                                                                                                                                                                                                                                                                                                                                  6422\n",
              "Developer, back-end                                                                                                                                                                                                                                                                                                                                                                                                                    4879\n",
              "Developer, front-end                                                                                                                                                                                                                                                                                                                                                                                                                   2126\n",
              "Developer, front-end;Developer, full-stack;Developer, back-end                                                                                                                                                                                                                                                                                                                                                                         1527\n",
              "Developer, full-stack;Developer, back-end                                                                                                                                                                                                                                                                                                                                                                                              1356\n",
              "                                                                                                                                                                                                                                                                                                                                                                                                                                       ... \n",
              "Developer, full-stack;Developer, back-end;Developer, mobile;Database administrator;Designer                                                                                                                                                                                                                                                                                                                                               1\n",
              "Developer, front-end;Developer, full-stack;Developer, back-end;Developer, desktop or enterprise applications;Student;Developer, mobile;Project manager;Product manager;Senior Executive (C-Suite, VP, etc.);System administrator;Marketing or sales professional;Security professional                                                                                                                                                    1\n",
              "Developer, full-stack;Developer, back-end;Developer, mobile;Engineering manager;Database administrator;Cloud infrastructure engineer                                                                                                                                                                                                                                                                                                      1\n",
              "Developer, front-end;Developer, full-stack;Developer, back-end;Developer, desktop or enterprise applications;Engineering manager;Database administrator;Project manager;Designer;Product manager                                                                                                                                                                                                                                          1\n",
              "Developer, front-end;Engineer, data;Engineer, site reliability;Developer, full-stack;Developer, back-end;Developer, desktop or enterprise applications;Developer, QA or test;Student;Developer, mobile;Academic researcher;DevOps specialist;Developer, embedded applications or devices;Developer, game or graphics;Cloud infrastructure engineer;Data or business analyst;Designer;Scientist;Product manager;System administrator       1\n",
              "Name: DevType, Length: 7806, dtype: int64"
            ]
          },
          "metadata": {},
          "execution_count": 32
        }
      ]
    },
    {
      "cell_type": "code",
      "source": [
        "def split_multicolumn(col_series):\n",
        "    result_df = col_series.to_frame()\n",
        "    options = []\n",
        "    # Iterate over the column\n",
        "    for idx, value  in col_series[col_series.notnull()].iteritems():\n",
        "        # Break each value into list of options\n",
        "        for option in value.split(';'):\n",
        "            # Add the option as a column to result\n",
        "            if not option in result_df.columns:\n",
        "                options.append(option)\n",
        "                result_df[option] = False\n",
        "            # Mark the value in the option column as True\n",
        "            result_df.at[idx, option] = True\n",
        "    return result_df[options]"
      ],
      "metadata": {
        "id": "W3LpkeiRai4e"
      },
      "execution_count": null,
      "outputs": []
    },
    {
      "cell_type": "code",
      "source": [
        "dev_type_df = split_multicolumn(survey_df.DevType)\n",
        "dev_type_df"
      ],
      "metadata": {
        "colab": {
          "base_uri": "https://localhost:8080/",
          "height": 557
        },
        "id": "pPkvH9Dialwn",
        "outputId": "02b22f0a-cc8d-46ee-c9db-a95f7f587180"
      },
      "execution_count": null,
      "outputs": [
        {
          "output_type": "execute_result",
          "data": {
            "text/plain": [
              "       Data scientist or machine learning specialist  Developer, front-end  \\\n",
              "0                                              False                 False   \n",
              "1                                              False                 False   \n",
              "2                                               True                  True   \n",
              "3                                              False                 False   \n",
              "4                                              False                  True   \n",
              "...                                              ...                   ...   \n",
              "73263                                          False                 False   \n",
              "73264                                           True                 False   \n",
              "73265                                          False                 False   \n",
              "73266                                          False                  True   \n",
              "73267                                          False                  True   \n",
              "\n",
              "       Engineer, data  Engineer, site reliability  Developer, full-stack  \\\n",
              "0               False                       False                  False   \n",
              "1               False                       False                  False   \n",
              "2                True                        True                  False   \n",
              "3               False                       False                   True   \n",
              "4               False                       False                   True   \n",
              "...               ...                         ...                    ...   \n",
              "73263           False                       False                  False   \n",
              "73264           False                       False                  False   \n",
              "73265           False                       False                   True   \n",
              "73266           False                       False                  False   \n",
              "73267            True                        True                   True   \n",
              "\n",
              "       Developer, back-end  Developer, desktop or enterprise applications  \\\n",
              "0                    False                                          False   \n",
              "1                    False                                          False   \n",
              "2                    False                                          False   \n",
              "3                    False                                          False   \n",
              "4                     True                                           True   \n",
              "...                    ...                                            ...   \n",
              "73263                 True                                          False   \n",
              "73264                False                                          False   \n",
              "73265                False                                           True   \n",
              "73266                False                                           True   \n",
              "73267                 True                                           True   \n",
              "\n",
              "       Developer, QA or test  Student  Developer, mobile  ...  \\\n",
              "0                      False    False              False  ...   \n",
              "1                      False    False              False  ...   \n",
              "2                      False    False              False  ...   \n",
              "3                      False    False              False  ...   \n",
              "4                       True    False              False  ...   \n",
              "...                      ...      ...                ...  ...   \n",
              "73263                  False    False              False  ...   \n",
              "73264                  False    False              False  ...   \n",
              "73265                  False    False              False  ...   \n",
              "73266                  False    False              False  ...   \n",
              "73267                   True     True               True  ...   \n",
              "\n",
              "       Data or business analyst  Designer  Product manager  \\\n",
              "0                         False     False            False   \n",
              "1                         False     False            False   \n",
              "2                         False     False            False   \n",
              "3                         False     False            False   \n",
              "4                         False     False            False   \n",
              "...                         ...       ...              ...   \n",
              "73263                     False     False            False   \n",
              "73264                     False     False            False   \n",
              "73265                     False     False            False   \n",
              "73266                     False     False            False   \n",
              "73267                      True      True             True   \n",
              "\n",
              "       Senior Executive (C-Suite, VP, etc.)  System administrator  \\\n",
              "0                                     False                 False   \n",
              "1                                     False                 False   \n",
              "2                                     False                 False   \n",
              "3                                     False                 False   \n",
              "4                                     False                 False   \n",
              "...                                     ...                   ...   \n",
              "73263                                 False                 False   \n",
              "73264                                 False                 False   \n",
              "73265                                 False                  True   \n",
              "73266                                 False                 False   \n",
              "73267                                 False                  True   \n",
              "\n",
              "       Marketing or sales professional  Academic researcher  Scientist  \\\n",
              "0                                False                False      False   \n",
              "1                                False                False      False   \n",
              "2                                False                False      False   \n",
              "3                                False                False      False   \n",
              "4                                False                False      False   \n",
              "...                                ...                  ...        ...   \n",
              "73263                            False                False      False   \n",
              "73264                            False                False      False   \n",
              "73265                            False                False      False   \n",
              "73266                            False                False      False   \n",
              "73267                            False                 True       True   \n",
              "\n",
              "       Security professional  Blockchain  \n",
              "0                      False       False  \n",
              "1                      False       False  \n",
              "2                      False       False  \n",
              "3                      False       False  \n",
              "4                      False       False  \n",
              "...                      ...         ...  \n",
              "73263                  False       False  \n",
              "73264                  False       False  \n",
              "73265                  False       False  \n",
              "73266                  False       False  \n",
              "73267                  False       False  \n",
              "\n",
              "[73268 rows x 29 columns]"
            ],
            "text/html": [
              "\n",
              "  <div id=\"df-5b9fd8fd-34a5-4f60-aba3-391db09731eb\">\n",
              "    <div class=\"colab-df-container\">\n",
              "      <div>\n",
              "<style scoped>\n",
              "    .dataframe tbody tr th:only-of-type {\n",
              "        vertical-align: middle;\n",
              "    }\n",
              "\n",
              "    .dataframe tbody tr th {\n",
              "        vertical-align: top;\n",
              "    }\n",
              "\n",
              "    .dataframe thead th {\n",
              "        text-align: right;\n",
              "    }\n",
              "</style>\n",
              "<table border=\"1\" class=\"dataframe\">\n",
              "  <thead>\n",
              "    <tr style=\"text-align: right;\">\n",
              "      <th></th>\n",
              "      <th>Data scientist or machine learning specialist</th>\n",
              "      <th>Developer, front-end</th>\n",
              "      <th>Engineer, data</th>\n",
              "      <th>Engineer, site reliability</th>\n",
              "      <th>Developer, full-stack</th>\n",
              "      <th>Developer, back-end</th>\n",
              "      <th>Developer, desktop or enterprise applications</th>\n",
              "      <th>Developer, QA or test</th>\n",
              "      <th>Student</th>\n",
              "      <th>Developer, mobile</th>\n",
              "      <th>...</th>\n",
              "      <th>Data or business analyst</th>\n",
              "      <th>Designer</th>\n",
              "      <th>Product manager</th>\n",
              "      <th>Senior Executive (C-Suite, VP, etc.)</th>\n",
              "      <th>System administrator</th>\n",
              "      <th>Marketing or sales professional</th>\n",
              "      <th>Academic researcher</th>\n",
              "      <th>Scientist</th>\n",
              "      <th>Security professional</th>\n",
              "      <th>Blockchain</th>\n",
              "    </tr>\n",
              "  </thead>\n",
              "  <tbody>\n",
              "    <tr>\n",
              "      <th>0</th>\n",
              "      <td>False</td>\n",
              "      <td>False</td>\n",
              "      <td>False</td>\n",
              "      <td>False</td>\n",
              "      <td>False</td>\n",
              "      <td>False</td>\n",
              "      <td>False</td>\n",
              "      <td>False</td>\n",
              "      <td>False</td>\n",
              "      <td>False</td>\n",
              "      <td>...</td>\n",
              "      <td>False</td>\n",
              "      <td>False</td>\n",
              "      <td>False</td>\n",
              "      <td>False</td>\n",
              "      <td>False</td>\n",
              "      <td>False</td>\n",
              "      <td>False</td>\n",
              "      <td>False</td>\n",
              "      <td>False</td>\n",
              "      <td>False</td>\n",
              "    </tr>\n",
              "    <tr>\n",
              "      <th>1</th>\n",
              "      <td>False</td>\n",
              "      <td>False</td>\n",
              "      <td>False</td>\n",
              "      <td>False</td>\n",
              "      <td>False</td>\n",
              "      <td>False</td>\n",
              "      <td>False</td>\n",
              "      <td>False</td>\n",
              "      <td>False</td>\n",
              "      <td>False</td>\n",
              "      <td>...</td>\n",
              "      <td>False</td>\n",
              "      <td>False</td>\n",
              "      <td>False</td>\n",
              "      <td>False</td>\n",
              "      <td>False</td>\n",
              "      <td>False</td>\n",
              "      <td>False</td>\n",
              "      <td>False</td>\n",
              "      <td>False</td>\n",
              "      <td>False</td>\n",
              "    </tr>\n",
              "    <tr>\n",
              "      <th>2</th>\n",
              "      <td>True</td>\n",
              "      <td>True</td>\n",
              "      <td>True</td>\n",
              "      <td>True</td>\n",
              "      <td>False</td>\n",
              "      <td>False</td>\n",
              "      <td>False</td>\n",
              "      <td>False</td>\n",
              "      <td>False</td>\n",
              "      <td>False</td>\n",
              "      <td>...</td>\n",
              "      <td>False</td>\n",
              "      <td>False</td>\n",
              "      <td>False</td>\n",
              "      <td>False</td>\n",
              "      <td>False</td>\n",
              "      <td>False</td>\n",
              "      <td>False</td>\n",
              "      <td>False</td>\n",
              "      <td>False</td>\n",
              "      <td>False</td>\n",
              "    </tr>\n",
              "    <tr>\n",
              "      <th>3</th>\n",
              "      <td>False</td>\n",
              "      <td>False</td>\n",
              "      <td>False</td>\n",
              "      <td>False</td>\n",
              "      <td>True</td>\n",
              "      <td>False</td>\n",
              "      <td>False</td>\n",
              "      <td>False</td>\n",
              "      <td>False</td>\n",
              "      <td>False</td>\n",
              "      <td>...</td>\n",
              "      <td>False</td>\n",
              "      <td>False</td>\n",
              "      <td>False</td>\n",
              "      <td>False</td>\n",
              "      <td>False</td>\n",
              "      <td>False</td>\n",
              "      <td>False</td>\n",
              "      <td>False</td>\n",
              "      <td>False</td>\n",
              "      <td>False</td>\n",
              "    </tr>\n",
              "    <tr>\n",
              "      <th>4</th>\n",
              "      <td>False</td>\n",
              "      <td>True</td>\n",
              "      <td>False</td>\n",
              "      <td>False</td>\n",
              "      <td>True</td>\n",
              "      <td>True</td>\n",
              "      <td>True</td>\n",
              "      <td>True</td>\n",
              "      <td>False</td>\n",
              "      <td>False</td>\n",
              "      <td>...</td>\n",
              "      <td>False</td>\n",
              "      <td>False</td>\n",
              "      <td>False</td>\n",
              "      <td>False</td>\n",
              "      <td>False</td>\n",
              "      <td>False</td>\n",
              "      <td>False</td>\n",
              "      <td>False</td>\n",
              "      <td>False</td>\n",
              "      <td>False</td>\n",
              "    </tr>\n",
              "    <tr>\n",
              "      <th>...</th>\n",
              "      <td>...</td>\n",
              "      <td>...</td>\n",
              "      <td>...</td>\n",
              "      <td>...</td>\n",
              "      <td>...</td>\n",
              "      <td>...</td>\n",
              "      <td>...</td>\n",
              "      <td>...</td>\n",
              "      <td>...</td>\n",
              "      <td>...</td>\n",
              "      <td>...</td>\n",
              "      <td>...</td>\n",
              "      <td>...</td>\n",
              "      <td>...</td>\n",
              "      <td>...</td>\n",
              "      <td>...</td>\n",
              "      <td>...</td>\n",
              "      <td>...</td>\n",
              "      <td>...</td>\n",
              "      <td>...</td>\n",
              "      <td>...</td>\n",
              "    </tr>\n",
              "    <tr>\n",
              "      <th>73263</th>\n",
              "      <td>False</td>\n",
              "      <td>False</td>\n",
              "      <td>False</td>\n",
              "      <td>False</td>\n",
              "      <td>False</td>\n",
              "      <td>True</td>\n",
              "      <td>False</td>\n",
              "      <td>False</td>\n",
              "      <td>False</td>\n",
              "      <td>False</td>\n",
              "      <td>...</td>\n",
              "      <td>False</td>\n",
              "      <td>False</td>\n",
              "      <td>False</td>\n",
              "      <td>False</td>\n",
              "      <td>False</td>\n",
              "      <td>False</td>\n",
              "      <td>False</td>\n",
              "      <td>False</td>\n",
              "      <td>False</td>\n",
              "      <td>False</td>\n",
              "    </tr>\n",
              "    <tr>\n",
              "      <th>73264</th>\n",
              "      <td>True</td>\n",
              "      <td>False</td>\n",
              "      <td>False</td>\n",
              "      <td>False</td>\n",
              "      <td>False</td>\n",
              "      <td>False</td>\n",
              "      <td>False</td>\n",
              "      <td>False</td>\n",
              "      <td>False</td>\n",
              "      <td>False</td>\n",
              "      <td>...</td>\n",
              "      <td>False</td>\n",
              "      <td>False</td>\n",
              "      <td>False</td>\n",
              "      <td>False</td>\n",
              "      <td>False</td>\n",
              "      <td>False</td>\n",
              "      <td>False</td>\n",
              "      <td>False</td>\n",
              "      <td>False</td>\n",
              "      <td>False</td>\n",
              "    </tr>\n",
              "    <tr>\n",
              "      <th>73265</th>\n",
              "      <td>False</td>\n",
              "      <td>False</td>\n",
              "      <td>False</td>\n",
              "      <td>False</td>\n",
              "      <td>True</td>\n",
              "      <td>False</td>\n",
              "      <td>True</td>\n",
              "      <td>False</td>\n",
              "      <td>False</td>\n",
              "      <td>False</td>\n",
              "      <td>...</td>\n",
              "      <td>False</td>\n",
              "      <td>False</td>\n",
              "      <td>False</td>\n",
              "      <td>False</td>\n",
              "      <td>True</td>\n",
              "      <td>False</td>\n",
              "      <td>False</td>\n",
              "      <td>False</td>\n",
              "      <td>False</td>\n",
              "      <td>False</td>\n",
              "    </tr>\n",
              "    <tr>\n",
              "      <th>73266</th>\n",
              "      <td>False</td>\n",
              "      <td>True</td>\n",
              "      <td>False</td>\n",
              "      <td>False</td>\n",
              "      <td>False</td>\n",
              "      <td>False</td>\n",
              "      <td>True</td>\n",
              "      <td>False</td>\n",
              "      <td>False</td>\n",
              "      <td>False</td>\n",
              "      <td>...</td>\n",
              "      <td>False</td>\n",
              "      <td>False</td>\n",
              "      <td>False</td>\n",
              "      <td>False</td>\n",
              "      <td>False</td>\n",
              "      <td>False</td>\n",
              "      <td>False</td>\n",
              "      <td>False</td>\n",
              "      <td>False</td>\n",
              "      <td>False</td>\n",
              "    </tr>\n",
              "    <tr>\n",
              "      <th>73267</th>\n",
              "      <td>False</td>\n",
              "      <td>True</td>\n",
              "      <td>True</td>\n",
              "      <td>True</td>\n",
              "      <td>True</td>\n",
              "      <td>True</td>\n",
              "      <td>True</td>\n",
              "      <td>True</td>\n",
              "      <td>True</td>\n",
              "      <td>True</td>\n",
              "      <td>...</td>\n",
              "      <td>True</td>\n",
              "      <td>True</td>\n",
              "      <td>True</td>\n",
              "      <td>False</td>\n",
              "      <td>True</td>\n",
              "      <td>False</td>\n",
              "      <td>True</td>\n",
              "      <td>True</td>\n",
              "      <td>False</td>\n",
              "      <td>False</td>\n",
              "    </tr>\n",
              "  </tbody>\n",
              "</table>\n",
              "<p>73268 rows × 29 columns</p>\n",
              "</div>\n",
              "      <button class=\"colab-df-convert\" onclick=\"convertToInteractive('df-5b9fd8fd-34a5-4f60-aba3-391db09731eb')\"\n",
              "              title=\"Convert this dataframe to an interactive table.\"\n",
              "              style=\"display:none;\">\n",
              "        \n",
              "  <svg xmlns=\"http://www.w3.org/2000/svg\" height=\"24px\"viewBox=\"0 0 24 24\"\n",
              "       width=\"24px\">\n",
              "    <path d=\"M0 0h24v24H0V0z\" fill=\"none\"/>\n",
              "    <path d=\"M18.56 5.44l.94 2.06.94-2.06 2.06-.94-2.06-.94-.94-2.06-.94 2.06-2.06.94zm-11 1L8.5 8.5l.94-2.06 2.06-.94-2.06-.94L8.5 2.5l-.94 2.06-2.06.94zm10 10l.94 2.06.94-2.06 2.06-.94-2.06-.94-.94-2.06-.94 2.06-2.06.94z\"/><path d=\"M17.41 7.96l-1.37-1.37c-.4-.4-.92-.59-1.43-.59-.52 0-1.04.2-1.43.59L10.3 9.45l-7.72 7.72c-.78.78-.78 2.05 0 2.83L4 21.41c.39.39.9.59 1.41.59.51 0 1.02-.2 1.41-.59l7.78-7.78 2.81-2.81c.8-.78.8-2.07 0-2.86zM5.41 20L4 18.59l7.72-7.72 1.47 1.35L5.41 20z\"/>\n",
              "  </svg>\n",
              "      </button>\n",
              "      \n",
              "  <style>\n",
              "    .colab-df-container {\n",
              "      display:flex;\n",
              "      flex-wrap:wrap;\n",
              "      gap: 12px;\n",
              "    }\n",
              "\n",
              "    .colab-df-convert {\n",
              "      background-color: #E8F0FE;\n",
              "      border: none;\n",
              "      border-radius: 50%;\n",
              "      cursor: pointer;\n",
              "      display: none;\n",
              "      fill: #1967D2;\n",
              "      height: 32px;\n",
              "      padding: 0 0 0 0;\n",
              "      width: 32px;\n",
              "    }\n",
              "\n",
              "    .colab-df-convert:hover {\n",
              "      background-color: #E2EBFA;\n",
              "      box-shadow: 0px 1px 2px rgba(60, 64, 67, 0.3), 0px 1px 3px 1px rgba(60, 64, 67, 0.15);\n",
              "      fill: #174EA6;\n",
              "    }\n",
              "\n",
              "    [theme=dark] .colab-df-convert {\n",
              "      background-color: #3B4455;\n",
              "      fill: #D2E3FC;\n",
              "    }\n",
              "\n",
              "    [theme=dark] .colab-df-convert:hover {\n",
              "      background-color: #434B5C;\n",
              "      box-shadow: 0px 1px 3px 1px rgba(0, 0, 0, 0.15);\n",
              "      filter: drop-shadow(0px 1px 2px rgba(0, 0, 0, 0.3));\n",
              "      fill: #FFFFFF;\n",
              "    }\n",
              "  </style>\n",
              "\n",
              "      <script>\n",
              "        const buttonEl =\n",
              "          document.querySelector('#df-5b9fd8fd-34a5-4f60-aba3-391db09731eb button.colab-df-convert');\n",
              "        buttonEl.style.display =\n",
              "          google.colab.kernel.accessAllowed ? 'block' : 'none';\n",
              "\n",
              "        async function convertToInteractive(key) {\n",
              "          const element = document.querySelector('#df-5b9fd8fd-34a5-4f60-aba3-391db09731eb');\n",
              "          const dataTable =\n",
              "            await google.colab.kernel.invokeFunction('convertToInteractive',\n",
              "                                                     [key], {});\n",
              "          if (!dataTable) return;\n",
              "\n",
              "          const docLinkHtml = 'Like what you see? Visit the ' +\n",
              "            '<a target=\"_blank\" href=https://colab.research.google.com/notebooks/data_table.ipynb>data table notebook</a>'\n",
              "            + ' to learn more about interactive tables.';\n",
              "          element.innerHTML = '';\n",
              "          dataTable['output_type'] = 'display_data';\n",
              "          await google.colab.output.renderOutput(dataTable, element);\n",
              "          const docLink = document.createElement('div');\n",
              "          docLink.innerHTML = docLinkHtml;\n",
              "          element.appendChild(docLink);\n",
              "        }\n",
              "      </script>\n",
              "    </div>\n",
              "  </div>\n",
              "  "
            ]
          },
          "metadata": {},
          "execution_count": 34
        }
      ]
    },
    {
      "cell_type": "code",
      "source": [
        "# avarage value   \n",
        "# to sum use sum() inplace of mean() without 100 multification\n",
        "dev_type_totals = dev_type_df.mean().sort_values(ascending=False)*100\n",
        "dev_type_totals"
      ],
      "metadata": {
        "colab": {
          "base_uri": "https://localhost:8080/"
        },
        "id": "hgjvk2RCbInN",
        "outputId": "f879838c-3b6a-4f1e-b780-f82ce8bf6915"
      },
      "execution_count": null,
      "outputs": [
        {
          "output_type": "execute_result",
          "data": {
            "text/plain": [
              "Developer, full-stack                            31.503521\n",
              "Developer, back-end                              29.678714\n",
              "Developer, front-end                             17.066113\n",
              "Developer, desktop or enterprise applications    10.692253\n",
              "Developer, mobile                                 7.940711\n",
              "DevOps specialist                                 6.852924\n",
              "Cloud infrastructure engineer                     5.927554\n",
              "Database administrator                            5.254681\n",
              "System administrator                              5.178250\n",
              "Developer, embedded applications or devices       4.244691\n",
              "Engineering manager                               4.198286\n",
              "Project manager                                   4.166894\n",
              "Engineer, data                                    3.962166\n",
              "Designer                                          3.865262\n",
              "Data scientist or machine learning specialist     3.540427\n",
              "Data or business analyst                          3.514495\n",
              "Developer, QA or test                             3.382104\n",
              "Other (please specify):                           2.969919\n",
              "Product manager                                   2.739259\n",
              "Academic researcher                               2.385762\n",
              "Engineer, site reliability                        2.144183\n",
              "Security professional                             2.039089\n",
              "Educator                                          2.037725\n",
              "Senior Executive (C-Suite, VP, etc.)              1.992684\n",
              "Student                                           1.909428\n",
              "Scientist                                         1.768849\n",
              "Developer, game or graphics                       1.755200\n",
              "Blockchain                                        1.203800\n",
              "Marketing or sales professional                   0.533657\n",
              "dtype: float64"
            ]
          },
          "metadata": {},
          "execution_count": 42
        }
      ]
    },
    {
      "cell_type": "code",
      "source": [
        "plt.figure(figsize=(12, 12))\n",
        "sns.barplot(x=dev_type_totals, y=dev_type_totals.index)\n",
        "plt.title(\"Parcentage Languages used in the past year\");\n",
        "plt.xlabel('Count in Parcentage');"
      ],
      "metadata": {
        "colab": {
          "base_uri": "https://localhost:8080/",
          "height": 730
        },
        "id": "H6Z2OQZBb40B",
        "outputId": "fcba1159-a9c0-4a32-efdb-70f3758451c7"
      },
      "execution_count": null,
      "outputs": [
        {
          "output_type": "display_data",
          "data": {
            "text/plain": [
              "<Figure size 864x864 with 1 Axes>"
            ],
            "image/png": "[encoded data removed]"
          },
          "metadata": {
            "needs_background": "light"
          }
        }
      ]
    },
    {
      "cell_type": "code",
      "source": [
        "survey_df['LanguageWantToWorkWith'].value_counts()"
      ],
      "metadata": {
        "colab": {
          "base_uri": "https://localhost:8080/"
        },
        "id": "mG-3TH2zpgsk",
        "outputId": "7c47044a-c4ab-4274-b7c8-83eaf6a3e276"
      },
      "execution_count": null,
      "outputs": [
        {
          "output_type": "execute_result",
          "data": {
            "text/plain": [
              "Python                                   898\n",
              "HTML/CSS;JavaScript;TypeScript           831\n",
              "Rust                                     710\n",
              "C#                                       521\n",
              "Go                                       455\n",
              "                                        ... \n",
              "C;C#;C++;F#;LISP;PHP;Python;R;SQL          1\n",
              "Assembly;C;C++;Delphi;SQL;VBA              1\n",
              "APL;Bash/Shell;Elixir;Rust;TypeScript      1\n",
              "Elixir;Ruby;Rust;Swift                     1\n",
              "PowerShell;Rust;TypeScript                 1\n",
              "Name: LanguageWantToWorkWith, Length: 19631, dtype: int64"
            ]
          },
          "metadata": {},
          "execution_count": 44
        }
      ]
    },
    {
      "cell_type": "code",
      "source": [
        "#look up ............def split_multicolumn\n",
        "\n",
        "\n",
        "languages_interested_df = split_multicolumn(survey_df.LanguageWantToWorkWith)\n",
        "languages_interested_percentages = languages_interested_df.mean().sort_values(ascending=False) * 100\n",
        "languages_interested_percentages"
      ],
      "metadata": {
        "colab": {
          "base_uri": "https://localhost:8080/"
        },
        "id": "M6ZCHPIQqRBQ",
        "outputId": "040e5a00-eeb8-4848-d400-be5c30a13dfd"
      },
      "execution_count": null,
      "outputs": [
        {
          "output_type": "execute_result",
          "data": {
            "text/plain": [
              "JavaScript     34.929301\n",
              "Python         32.445269\n",
              "TypeScript     28.693290\n",
              "HTML/CSS       27.848447\n",
              "SQL            27.585030\n",
              "Rust           18.693017\n",
              "C#             17.620243\n",
              "Go             17.101600\n",
              "Java           14.777256\n",
              "Bash/Shell     14.564339\n",
              "C++            12.791396\n",
              "Kotlin         10.098542\n",
              "C               8.276464\n",
              "PHP             7.726429\n",
              "Dart            6.193700\n",
              "Swift           5.377518\n",
              "PowerShell      5.231479\n",
              "Ruby            4.217394\n",
              "Elixir          3.586832\n",
              "R               3.091391\n",
              "Assembly        3.058634\n",
              "Haskell         3.038161\n",
              "Scala           2.690124\n",
              "Solidity        2.606868\n",
              "Lua             2.526342\n",
              "Julia           2.361195\n",
              "Clojure         2.179669\n",
              "F#              2.152372\n",
              "Delphi          1.961293\n",
              "LISP            1.304799\n",
              "Erlang          1.299339\n",
              "Groovy          1.169678\n",
              "MATLAB          1.033193\n",
              "Perl            1.029099\n",
              "VBA             1.019545\n",
              "Objective-C     0.896708\n",
              "OCaml           0.749304\n",
              "APL             0.619643\n",
              "Crystal         0.544576\n",
              "Fortran         0.424469\n",
              "SAS             0.393077\n",
              "COBOL           0.334389\n",
              "dtype: float64"
            ]
          },
          "metadata": {},
          "execution_count": 46
        }
      ]
    },
    {
      "cell_type": "code",
      "source": [
        "plt.figure(figsize=(12, 12))\n",
        "sns.barplot(x=languages_interested_percentages, y=languages_interested_percentages.index)\n",
        "plt.title(\"Languages people are intersted in learning over the next year\");\n",
        "plt.xlabel('count in Parcentage');"
      ],
      "metadata": {
        "colab": {
          "base_uri": "https://localhost:8080/",
          "height": 730
        },
        "id": "ZDpNvJParB-R",
        "outputId": "23f43d41-bdc5-4293-86a0-adfe35cf5099"
      },
      "execution_count": null,
      "outputs": [
        {
          "output_type": "display_data",
          "data": {
            "text/plain": [
              "<Figure size 864x864 with 1 Axes>"
            ],
            "image/png": "[encoded data removed]"
          },
          "metadata": {
            "needs_background": "light"
          }
        }
      ]
    },
    {
      "cell_type": "code",
      "source": [],
      "metadata": {
        "id": "_8GSQ4h1res0"
      },
      "execution_count": null,
      "outputs": []
    }
  ]
}